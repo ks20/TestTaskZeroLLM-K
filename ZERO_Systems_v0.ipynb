{
  "nbformat": 4,
  "nbformat_minor": 0,
  "metadata": {
    "colab": {
      "provenance": []
    },
    "kernelspec": {
      "name": "python3",
      "display_name": "Python 3"
    },
    "language_info": {
      "name": "python"
    }
  },
  "cells": [
    {
      "cell_type": "code",
      "source": [
        "!pip install transformers"
      ],
      "metadata": {
        "id": "eqRYCnH8frtB"
      },
      "execution_count": 38,
      "outputs": []
    },
    {
      "cell_type": "code",
      "execution_count": 39,
      "metadata": {
        "id": "xO27DbNMUNGd"
      },
      "outputs": [],
      "source": [
        "from google.colab import files\n",
        "import pandas as pd\n",
        "import numpy as np\n",
        "import torch\n",
        "\n",
        "from transformers import AutoTokenizer, AutoModel\n",
        "from sklearn.metrics.pairwise import cosine_similarity"
      ]
    },
    {
      "cell_type": "code",
      "source": [
        "import matplotlib.pyplot as plt"
      ],
      "metadata": {
        "id": "VeuplZkxnysx"
      },
      "execution_count": 40,
      "outputs": []
    },
    {
      "cell_type": "markdown",
      "source": [
        "# File Uploads"
      ],
      "metadata": {
        "id": "Q98AFC8oXSSn"
      }
    },
    {
      "cell_type": "markdown",
      "source": [
        "**Target Table**"
      ],
      "metadata": {
        "id": "lKjUOvqfXe2f"
      }
    },
    {
      "cell_type": "code",
      "source": [
        "print(\"Please upload target file as CSV: \\n\")\n",
        "\n",
        "# Prompt the user to upload a file\n",
        "template_file_upload = files.upload()"
      ],
      "metadata": {
        "colab": {
          "base_uri": "https://localhost:8080/",
          "height": 109
        },
        "id": "pliqv-COUq_g",
        "outputId": "6f78a3ae-eb79-4e34-fec8-61ff5b85d656"
      },
      "execution_count": 4,
      "outputs": [
        {
          "output_type": "stream",
          "name": "stdout",
          "text": [
            "Please upload target file as CSV: \n",
            "\n"
          ]
        },
        {
          "output_type": "display_data",
          "data": {
            "text/plain": [
              "<IPython.core.display.HTML object>"
            ],
            "text/html": [
              "\n",
              "     <input type=\"file\" id=\"files-5af65a64-66e3-46f7-80ca-9ae7facdf85c\" name=\"files[]\" multiple disabled\n",
              "        style=\"border:none\" />\n",
              "     <output id=\"result-5af65a64-66e3-46f7-80ca-9ae7facdf85c\">\n",
              "      Upload widget is only available when the cell has been executed in the\n",
              "      current browser session. Please rerun this cell to enable.\n",
              "      </output>\n",
              "      <script>// Copyright 2017 Google LLC\n",
              "//\n",
              "// Licensed under the Apache License, Version 2.0 (the \"License\");\n",
              "// you may not use this file except in compliance with the License.\n",
              "// You may obtain a copy of the License at\n",
              "//\n",
              "//      http://www.apache.org/licenses/LICENSE-2.0\n",
              "//\n",
              "// Unless required by applicable law or agreed to in writing, software\n",
              "// distributed under the License is distributed on an \"AS IS\" BASIS,\n",
              "// WITHOUT WARRANTIES OR CONDITIONS OF ANY KIND, either express or implied.\n",
              "// See the License for the specific language governing permissions and\n",
              "// limitations under the License.\n",
              "\n",
              "/**\n",
              " * @fileoverview Helpers for google.colab Python module.\n",
              " */\n",
              "(function(scope) {\n",
              "function span(text, styleAttributes = {}) {\n",
              "  const element = document.createElement('span');\n",
              "  element.textContent = text;\n",
              "  for (const key of Object.keys(styleAttributes)) {\n",
              "    element.style[key] = styleAttributes[key];\n",
              "  }\n",
              "  return element;\n",
              "}\n",
              "\n",
              "// Max number of bytes which will be uploaded at a time.\n",
              "const MAX_PAYLOAD_SIZE = 100 * 1024;\n",
              "\n",
              "function _uploadFiles(inputId, outputId) {\n",
              "  const steps = uploadFilesStep(inputId, outputId);\n",
              "  const outputElement = document.getElementById(outputId);\n",
              "  // Cache steps on the outputElement to make it available for the next call\n",
              "  // to uploadFilesContinue from Python.\n",
              "  outputElement.steps = steps;\n",
              "\n",
              "  return _uploadFilesContinue(outputId);\n",
              "}\n",
              "\n",
              "// This is roughly an async generator (not supported in the browser yet),\n",
              "// where there are multiple asynchronous steps and the Python side is going\n",
              "// to poll for completion of each step.\n",
              "// This uses a Promise to block the python side on completion of each step,\n",
              "// then passes the result of the previous step as the input to the next step.\n",
              "function _uploadFilesContinue(outputId) {\n",
              "  const outputElement = document.getElementById(outputId);\n",
              "  const steps = outputElement.steps;\n",
              "\n",
              "  const next = steps.next(outputElement.lastPromiseValue);\n",
              "  return Promise.resolve(next.value.promise).then((value) => {\n",
              "    // Cache the last promise value to make it available to the next\n",
              "    // step of the generator.\n",
              "    outputElement.lastPromiseValue = value;\n",
              "    return next.value.response;\n",
              "  });\n",
              "}\n",
              "\n",
              "/**\n",
              " * Generator function which is called between each async step of the upload\n",
              " * process.\n",
              " * @param {string} inputId Element ID of the input file picker element.\n",
              " * @param {string} outputId Element ID of the output display.\n",
              " * @return {!Iterable<!Object>} Iterable of next steps.\n",
              " */\n",
              "function* uploadFilesStep(inputId, outputId) {\n",
              "  const inputElement = document.getElementById(inputId);\n",
              "  inputElement.disabled = false;\n",
              "\n",
              "  const outputElement = document.getElementById(outputId);\n",
              "  outputElement.innerHTML = '';\n",
              "\n",
              "  const pickedPromise = new Promise((resolve) => {\n",
              "    inputElement.addEventListener('change', (e) => {\n",
              "      resolve(e.target.files);\n",
              "    });\n",
              "  });\n",
              "\n",
              "  const cancel = document.createElement('button');\n",
              "  inputElement.parentElement.appendChild(cancel);\n",
              "  cancel.textContent = 'Cancel upload';\n",
              "  const cancelPromise = new Promise((resolve) => {\n",
              "    cancel.onclick = () => {\n",
              "      resolve(null);\n",
              "    };\n",
              "  });\n",
              "\n",
              "  // Wait for the user to pick the files.\n",
              "  const files = yield {\n",
              "    promise: Promise.race([pickedPromise, cancelPromise]),\n",
              "    response: {\n",
              "      action: 'starting',\n",
              "    }\n",
              "  };\n",
              "\n",
              "  cancel.remove();\n",
              "\n",
              "  // Disable the input element since further picks are not allowed.\n",
              "  inputElement.disabled = true;\n",
              "\n",
              "  if (!files) {\n",
              "    return {\n",
              "      response: {\n",
              "        action: 'complete',\n",
              "      }\n",
              "    };\n",
              "  }\n",
              "\n",
              "  for (const file of files) {\n",
              "    const li = document.createElement('li');\n",
              "    li.append(span(file.name, {fontWeight: 'bold'}));\n",
              "    li.append(span(\n",
              "        `(${file.type || 'n/a'}) - ${file.size} bytes, ` +\n",
              "        `last modified: ${\n",
              "            file.lastModifiedDate ? file.lastModifiedDate.toLocaleDateString() :\n",
              "                                    'n/a'} - `));\n",
              "    const percent = span('0% done');\n",
              "    li.appendChild(percent);\n",
              "\n",
              "    outputElement.appendChild(li);\n",
              "\n",
              "    const fileDataPromise = new Promise((resolve) => {\n",
              "      const reader = new FileReader();\n",
              "      reader.onload = (e) => {\n",
              "        resolve(e.target.result);\n",
              "      };\n",
              "      reader.readAsArrayBuffer(file);\n",
              "    });\n",
              "    // Wait for the data to be ready.\n",
              "    let fileData = yield {\n",
              "      promise: fileDataPromise,\n",
              "      response: {\n",
              "        action: 'continue',\n",
              "      }\n",
              "    };\n",
              "\n",
              "    // Use a chunked sending to avoid message size limits. See b/62115660.\n",
              "    let position = 0;\n",
              "    do {\n",
              "      const length = Math.min(fileData.byteLength - position, MAX_PAYLOAD_SIZE);\n",
              "      const chunk = new Uint8Array(fileData, position, length);\n",
              "      position += length;\n",
              "\n",
              "      const base64 = btoa(String.fromCharCode.apply(null, chunk));\n",
              "      yield {\n",
              "        response: {\n",
              "          action: 'append',\n",
              "          file: file.name,\n",
              "          data: base64,\n",
              "        },\n",
              "      };\n",
              "\n",
              "      let percentDone = fileData.byteLength === 0 ?\n",
              "          100 :\n",
              "          Math.round((position / fileData.byteLength) * 100);\n",
              "      percent.textContent = `${percentDone}% done`;\n",
              "\n",
              "    } while (position < fileData.byteLength);\n",
              "  }\n",
              "\n",
              "  // All done.\n",
              "  yield {\n",
              "    response: {\n",
              "      action: 'complete',\n",
              "    }\n",
              "  };\n",
              "}\n",
              "\n",
              "scope.google = scope.google || {};\n",
              "scope.google.colab = scope.google.colab || {};\n",
              "scope.google.colab._files = {\n",
              "  _uploadFiles,\n",
              "  _uploadFilesContinue,\n",
              "};\n",
              "})(self);\n",
              "</script> "
            ]
          },
          "metadata": {}
        },
        {
          "output_type": "stream",
          "name": "stdout",
          "text": [
            "Saving template.csv to template.csv\n"
          ]
        }
      ]
    },
    {
      "cell_type": "code",
      "source": [
        "# Get the uploaded file name\n",
        "target_file_name = next(iter(template_file_upload))\n",
        "\n",
        "# Print the uploaded file name\n",
        "print(\"You uploaded file:\", target_file_name)\n",
        "\n",
        "target_file_df = pd.read_csv(target_file_name)"
      ],
      "metadata": {
        "colab": {
          "base_uri": "https://localhost:8080/",
          "height": 0
        },
        "id": "-wBxpB7-Unzn",
        "outputId": "bec463bc-bbdc-4a16-ef25-a2eede3b182b"
      },
      "execution_count": 5,
      "outputs": [
        {
          "output_type": "stream",
          "name": "stdout",
          "text": [
            "You uploaded file: template.csv\n"
          ]
        }
      ]
    },
    {
      "cell_type": "markdown",
      "source": [
        "**Table A**"
      ],
      "metadata": {
        "id": "x5oJ8k8oXFkf"
      }
    },
    {
      "cell_type": "code",
      "source": [
        "print(\"Please upload source data file as CSV: \\n\")\n",
        "\n",
        "# Prompt the user to upload a file\n",
        "source_data_file_upload = files.upload()"
      ],
      "metadata": {
        "colab": {
          "base_uri": "https://localhost:8080/",
          "height": 109
        },
        "id": "iz-Fs0v4U56P",
        "outputId": "1ecd5fbd-befc-43eb-ccf6-7ec385292ad6"
      },
      "execution_count": 7,
      "outputs": [
        {
          "output_type": "stream",
          "name": "stdout",
          "text": [
            "Please upload source data file as CSV: \n",
            "\n"
          ]
        },
        {
          "output_type": "display_data",
          "data": {
            "text/plain": [
              "<IPython.core.display.HTML object>"
            ],
            "text/html": [
              "\n",
              "     <input type=\"file\" id=\"files-3836c52d-3b0e-4062-9f5a-931127169cad\" name=\"files[]\" multiple disabled\n",
              "        style=\"border:none\" />\n",
              "     <output id=\"result-3836c52d-3b0e-4062-9f5a-931127169cad\">\n",
              "      Upload widget is only available when the cell has been executed in the\n",
              "      current browser session. Please rerun this cell to enable.\n",
              "      </output>\n",
              "      <script>// Copyright 2017 Google LLC\n",
              "//\n",
              "// Licensed under the Apache License, Version 2.0 (the \"License\");\n",
              "// you may not use this file except in compliance with the License.\n",
              "// You may obtain a copy of the License at\n",
              "//\n",
              "//      http://www.apache.org/licenses/LICENSE-2.0\n",
              "//\n",
              "// Unless required by applicable law or agreed to in writing, software\n",
              "// distributed under the License is distributed on an \"AS IS\" BASIS,\n",
              "// WITHOUT WARRANTIES OR CONDITIONS OF ANY KIND, either express or implied.\n",
              "// See the License for the specific language governing permissions and\n",
              "// limitations under the License.\n",
              "\n",
              "/**\n",
              " * @fileoverview Helpers for google.colab Python module.\n",
              " */\n",
              "(function(scope) {\n",
              "function span(text, styleAttributes = {}) {\n",
              "  const element = document.createElement('span');\n",
              "  element.textContent = text;\n",
              "  for (const key of Object.keys(styleAttributes)) {\n",
              "    element.style[key] = styleAttributes[key];\n",
              "  }\n",
              "  return element;\n",
              "}\n",
              "\n",
              "// Max number of bytes which will be uploaded at a time.\n",
              "const MAX_PAYLOAD_SIZE = 100 * 1024;\n",
              "\n",
              "function _uploadFiles(inputId, outputId) {\n",
              "  const steps = uploadFilesStep(inputId, outputId);\n",
              "  const outputElement = document.getElementById(outputId);\n",
              "  // Cache steps on the outputElement to make it available for the next call\n",
              "  // to uploadFilesContinue from Python.\n",
              "  outputElement.steps = steps;\n",
              "\n",
              "  return _uploadFilesContinue(outputId);\n",
              "}\n",
              "\n",
              "// This is roughly an async generator (not supported in the browser yet),\n",
              "// where there are multiple asynchronous steps and the Python side is going\n",
              "// to poll for completion of each step.\n",
              "// This uses a Promise to block the python side on completion of each step,\n",
              "// then passes the result of the previous step as the input to the next step.\n",
              "function _uploadFilesContinue(outputId) {\n",
              "  const outputElement = document.getElementById(outputId);\n",
              "  const steps = outputElement.steps;\n",
              "\n",
              "  const next = steps.next(outputElement.lastPromiseValue);\n",
              "  return Promise.resolve(next.value.promise).then((value) => {\n",
              "    // Cache the last promise value to make it available to the next\n",
              "    // step of the generator.\n",
              "    outputElement.lastPromiseValue = value;\n",
              "    return next.value.response;\n",
              "  });\n",
              "}\n",
              "\n",
              "/**\n",
              " * Generator function which is called between each async step of the upload\n",
              " * process.\n",
              " * @param {string} inputId Element ID of the input file picker element.\n",
              " * @param {string} outputId Element ID of the output display.\n",
              " * @return {!Iterable<!Object>} Iterable of next steps.\n",
              " */\n",
              "function* uploadFilesStep(inputId, outputId) {\n",
              "  const inputElement = document.getElementById(inputId);\n",
              "  inputElement.disabled = false;\n",
              "\n",
              "  const outputElement = document.getElementById(outputId);\n",
              "  outputElement.innerHTML = '';\n",
              "\n",
              "  const pickedPromise = new Promise((resolve) => {\n",
              "    inputElement.addEventListener('change', (e) => {\n",
              "      resolve(e.target.files);\n",
              "    });\n",
              "  });\n",
              "\n",
              "  const cancel = document.createElement('button');\n",
              "  inputElement.parentElement.appendChild(cancel);\n",
              "  cancel.textContent = 'Cancel upload';\n",
              "  const cancelPromise = new Promise((resolve) => {\n",
              "    cancel.onclick = () => {\n",
              "      resolve(null);\n",
              "    };\n",
              "  });\n",
              "\n",
              "  // Wait for the user to pick the files.\n",
              "  const files = yield {\n",
              "    promise: Promise.race([pickedPromise, cancelPromise]),\n",
              "    response: {\n",
              "      action: 'starting',\n",
              "    }\n",
              "  };\n",
              "\n",
              "  cancel.remove();\n",
              "\n",
              "  // Disable the input element since further picks are not allowed.\n",
              "  inputElement.disabled = true;\n",
              "\n",
              "  if (!files) {\n",
              "    return {\n",
              "      response: {\n",
              "        action: 'complete',\n",
              "      }\n",
              "    };\n",
              "  }\n",
              "\n",
              "  for (const file of files) {\n",
              "    const li = document.createElement('li');\n",
              "    li.append(span(file.name, {fontWeight: 'bold'}));\n",
              "    li.append(span(\n",
              "        `(${file.type || 'n/a'}) - ${file.size} bytes, ` +\n",
              "        `last modified: ${\n",
              "            file.lastModifiedDate ? file.lastModifiedDate.toLocaleDateString() :\n",
              "                                    'n/a'} - `));\n",
              "    const percent = span('0% done');\n",
              "    li.appendChild(percent);\n",
              "\n",
              "    outputElement.appendChild(li);\n",
              "\n",
              "    const fileDataPromise = new Promise((resolve) => {\n",
              "      const reader = new FileReader();\n",
              "      reader.onload = (e) => {\n",
              "        resolve(e.target.result);\n",
              "      };\n",
              "      reader.readAsArrayBuffer(file);\n",
              "    });\n",
              "    // Wait for the data to be ready.\n",
              "    let fileData = yield {\n",
              "      promise: fileDataPromise,\n",
              "      response: {\n",
              "        action: 'continue',\n",
              "      }\n",
              "    };\n",
              "\n",
              "    // Use a chunked sending to avoid message size limits. See b/62115660.\n",
              "    let position = 0;\n",
              "    do {\n",
              "      const length = Math.min(fileData.byteLength - position, MAX_PAYLOAD_SIZE);\n",
              "      const chunk = new Uint8Array(fileData, position, length);\n",
              "      position += length;\n",
              "\n",
              "      const base64 = btoa(String.fromCharCode.apply(null, chunk));\n",
              "      yield {\n",
              "        response: {\n",
              "          action: 'append',\n",
              "          file: file.name,\n",
              "          data: base64,\n",
              "        },\n",
              "      };\n",
              "\n",
              "      let percentDone = fileData.byteLength === 0 ?\n",
              "          100 :\n",
              "          Math.round((position / fileData.byteLength) * 100);\n",
              "      percent.textContent = `${percentDone}% done`;\n",
              "\n",
              "    } while (position < fileData.byteLength);\n",
              "  }\n",
              "\n",
              "  // All done.\n",
              "  yield {\n",
              "    response: {\n",
              "      action: 'complete',\n",
              "    }\n",
              "  };\n",
              "}\n",
              "\n",
              "scope.google = scope.google || {};\n",
              "scope.google.colab = scope.google.colab || {};\n",
              "scope.google.colab._files = {\n",
              "  _uploadFiles,\n",
              "  _uploadFilesContinue,\n",
              "};\n",
              "})(self);\n",
              "</script> "
            ]
          },
          "metadata": {}
        },
        {
          "output_type": "stream",
          "name": "stdout",
          "text": [
            "Saving table_A.csv to table_A.csv\n"
          ]
        }
      ]
    },
    {
      "cell_type": "code",
      "source": [
        "# Get the uploaded file name\n",
        "source_data_file_name = next(iter(source_data_file_upload))\n",
        "\n",
        "# Print the uploaded file name\n",
        "print(\"You uploaded file:\", source_data_file_upload)\n",
        "\n",
        "source_file_1_df = pd.read_csv(source_data_file_name)"
      ],
      "metadata": {
        "colab": {
          "base_uri": "https://localhost:8080/",
          "height": 0
        },
        "id": "xsZY37v8XEqQ",
        "outputId": "182524a6-a7d8-4afb-ca6c-9726f6da362a"
      },
      "execution_count": 8,
      "outputs": [
        {
          "output_type": "stream",
          "name": "stdout",
          "text": [
            "You uploaded file: {'table_A.csv': b'Date_of_Policy,FullName,Insurance_Plan,Policy_No,Monthly_Premium,Department,JobTitle,Policy_Start,Full_Name,Insurance_Type,Policy_Num,Monthly_Cost\\n05/01/2023,John Doe,Gold Plan,AB-12345,150.00,IT,Software Engineer,05/01/2023,John Doe,Gold,AB-12345,150.00\\n05/02/2023,Jane Smith,Silver Plan,CD-67890,100.00,HR,HR Manager,05/02/2023,Jane Smith,Silver,CD-67890,100.00\\n05/03/2023,Michael Brown,Bronze Plan,EF-10111,50.00,Marketing,Marketing Coordinator,05/03/2023,Michael Brown,Bronze,EF-10111,50.00\\n05/04/2023,Alice Johnson,Gold Plan,GH-12121,150.00,Finance,Financial Analyst,05/04/2023,Alice Johnson,Gold,GH-12121,150.00\\n05/05/2023,Bob Wilson,Silver Plan,IJ-13131,100.00,Sales,Sales Executive,05/05/2023,Bob Wilson,Silver,IJ-13131,100.00\\n05/06/2023,Carol Martinez,Bronze Plan,KL-14141,50.00,Operations,Operations Manager,05/06/2023,Carol Martinez,Bronze,KL-14141,50.00\\n05/07/2023,David Anderson,Gold Plan,MN-15151,150.00,Legal,Attorney,05/07/2023,David Anderson,Gold,MN-15151,150.00\\n05/08/2023,Eva Thomas,Silver Plan,OP-16161,100.00,Product,Product Manager,05/08/2023,Eva Thomas,Silver,OP-16161,100.00\\n05/09/2023,Frank Jackson,Bronze Plan,QR-17171,50.00,Engineering,Engineer,05/09/2023,Frank Jackson,Bronze,QR-17171,50.00\\n05/10/2023,Grace White,Gold Plan,ST-18181,150.00,Design,Graphic Designer,05/10/2023,Grace White,Gold,ST-18181,150.00\\n'}\n"
          ]
        }
      ]
    },
    {
      "cell_type": "markdown",
      "source": [
        "**Table B**"
      ],
      "metadata": {
        "id": "3S-MgHgrq6DS"
      }
    },
    {
      "cell_type": "code",
      "source": [
        "print(\"Please upload source data file as CSV: \\n\")\n",
        "\n",
        "# Prompt the user to upload a file\n",
        "source_data_file_2_upload = files.upload()"
      ],
      "metadata": {
        "colab": {
          "base_uri": "https://localhost:8080/",
          "height": 109
        },
        "id": "XnuBqox1q8Ko",
        "outputId": "bec103e2-8fa0-4d9c-f778-9bb430a5acd7"
      },
      "execution_count": 10,
      "outputs": [
        {
          "output_type": "stream",
          "name": "stdout",
          "text": [
            "Please upload source data file as CSV: \n",
            "\n"
          ]
        },
        {
          "output_type": "display_data",
          "data": {
            "text/plain": [
              "<IPython.core.display.HTML object>"
            ],
            "text/html": [
              "\n",
              "     <input type=\"file\" id=\"files-446de9a8-0de5-4595-a55a-0cb929b95567\" name=\"files[]\" multiple disabled\n",
              "        style=\"border:none\" />\n",
              "     <output id=\"result-446de9a8-0de5-4595-a55a-0cb929b95567\">\n",
              "      Upload widget is only available when the cell has been executed in the\n",
              "      current browser session. Please rerun this cell to enable.\n",
              "      </output>\n",
              "      <script>// Copyright 2017 Google LLC\n",
              "//\n",
              "// Licensed under the Apache License, Version 2.0 (the \"License\");\n",
              "// you may not use this file except in compliance with the License.\n",
              "// You may obtain a copy of the License at\n",
              "//\n",
              "//      http://www.apache.org/licenses/LICENSE-2.0\n",
              "//\n",
              "// Unless required by applicable law or agreed to in writing, software\n",
              "// distributed under the License is distributed on an \"AS IS\" BASIS,\n",
              "// WITHOUT WARRANTIES OR CONDITIONS OF ANY KIND, either express or implied.\n",
              "// See the License for the specific language governing permissions and\n",
              "// limitations under the License.\n",
              "\n",
              "/**\n",
              " * @fileoverview Helpers for google.colab Python module.\n",
              " */\n",
              "(function(scope) {\n",
              "function span(text, styleAttributes = {}) {\n",
              "  const element = document.createElement('span');\n",
              "  element.textContent = text;\n",
              "  for (const key of Object.keys(styleAttributes)) {\n",
              "    element.style[key] = styleAttributes[key];\n",
              "  }\n",
              "  return element;\n",
              "}\n",
              "\n",
              "// Max number of bytes which will be uploaded at a time.\n",
              "const MAX_PAYLOAD_SIZE = 100 * 1024;\n",
              "\n",
              "function _uploadFiles(inputId, outputId) {\n",
              "  const steps = uploadFilesStep(inputId, outputId);\n",
              "  const outputElement = document.getElementById(outputId);\n",
              "  // Cache steps on the outputElement to make it available for the next call\n",
              "  // to uploadFilesContinue from Python.\n",
              "  outputElement.steps = steps;\n",
              "\n",
              "  return _uploadFilesContinue(outputId);\n",
              "}\n",
              "\n",
              "// This is roughly an async generator (not supported in the browser yet),\n",
              "// where there are multiple asynchronous steps and the Python side is going\n",
              "// to poll for completion of each step.\n",
              "// This uses a Promise to block the python side on completion of each step,\n",
              "// then passes the result of the previous step as the input to the next step.\n",
              "function _uploadFilesContinue(outputId) {\n",
              "  const outputElement = document.getElementById(outputId);\n",
              "  const steps = outputElement.steps;\n",
              "\n",
              "  const next = steps.next(outputElement.lastPromiseValue);\n",
              "  return Promise.resolve(next.value.promise).then((value) => {\n",
              "    // Cache the last promise value to make it available to the next\n",
              "    // step of the generator.\n",
              "    outputElement.lastPromiseValue = value;\n",
              "    return next.value.response;\n",
              "  });\n",
              "}\n",
              "\n",
              "/**\n",
              " * Generator function which is called between each async step of the upload\n",
              " * process.\n",
              " * @param {string} inputId Element ID of the input file picker element.\n",
              " * @param {string} outputId Element ID of the output display.\n",
              " * @return {!Iterable<!Object>} Iterable of next steps.\n",
              " */\n",
              "function* uploadFilesStep(inputId, outputId) {\n",
              "  const inputElement = document.getElementById(inputId);\n",
              "  inputElement.disabled = false;\n",
              "\n",
              "  const outputElement = document.getElementById(outputId);\n",
              "  outputElement.innerHTML = '';\n",
              "\n",
              "  const pickedPromise = new Promise((resolve) => {\n",
              "    inputElement.addEventListener('change', (e) => {\n",
              "      resolve(e.target.files);\n",
              "    });\n",
              "  });\n",
              "\n",
              "  const cancel = document.createElement('button');\n",
              "  inputElement.parentElement.appendChild(cancel);\n",
              "  cancel.textContent = 'Cancel upload';\n",
              "  const cancelPromise = new Promise((resolve) => {\n",
              "    cancel.onclick = () => {\n",
              "      resolve(null);\n",
              "    };\n",
              "  });\n",
              "\n",
              "  // Wait for the user to pick the files.\n",
              "  const files = yield {\n",
              "    promise: Promise.race([pickedPromise, cancelPromise]),\n",
              "    response: {\n",
              "      action: 'starting',\n",
              "    }\n",
              "  };\n",
              "\n",
              "  cancel.remove();\n",
              "\n",
              "  // Disable the input element since further picks are not allowed.\n",
              "  inputElement.disabled = true;\n",
              "\n",
              "  if (!files) {\n",
              "    return {\n",
              "      response: {\n",
              "        action: 'complete',\n",
              "      }\n",
              "    };\n",
              "  }\n",
              "\n",
              "  for (const file of files) {\n",
              "    const li = document.createElement('li');\n",
              "    li.append(span(file.name, {fontWeight: 'bold'}));\n",
              "    li.append(span(\n",
              "        `(${file.type || 'n/a'}) - ${file.size} bytes, ` +\n",
              "        `last modified: ${\n",
              "            file.lastModifiedDate ? file.lastModifiedDate.toLocaleDateString() :\n",
              "                                    'n/a'} - `));\n",
              "    const percent = span('0% done');\n",
              "    li.appendChild(percent);\n",
              "\n",
              "    outputElement.appendChild(li);\n",
              "\n",
              "    const fileDataPromise = new Promise((resolve) => {\n",
              "      const reader = new FileReader();\n",
              "      reader.onload = (e) => {\n",
              "        resolve(e.target.result);\n",
              "      };\n",
              "      reader.readAsArrayBuffer(file);\n",
              "    });\n",
              "    // Wait for the data to be ready.\n",
              "    let fileData = yield {\n",
              "      promise: fileDataPromise,\n",
              "      response: {\n",
              "        action: 'continue',\n",
              "      }\n",
              "    };\n",
              "\n",
              "    // Use a chunked sending to avoid message size limits. See b/62115660.\n",
              "    let position = 0;\n",
              "    do {\n",
              "      const length = Math.min(fileData.byteLength - position, MAX_PAYLOAD_SIZE);\n",
              "      const chunk = new Uint8Array(fileData, position, length);\n",
              "      position += length;\n",
              "\n",
              "      const base64 = btoa(String.fromCharCode.apply(null, chunk));\n",
              "      yield {\n",
              "        response: {\n",
              "          action: 'append',\n",
              "          file: file.name,\n",
              "          data: base64,\n",
              "        },\n",
              "      };\n",
              "\n",
              "      let percentDone = fileData.byteLength === 0 ?\n",
              "          100 :\n",
              "          Math.round((position / fileData.byteLength) * 100);\n",
              "      percent.textContent = `${percentDone}% done`;\n",
              "\n",
              "    } while (position < fileData.byteLength);\n",
              "  }\n",
              "\n",
              "  // All done.\n",
              "  yield {\n",
              "    response: {\n",
              "      action: 'complete',\n",
              "    }\n",
              "  };\n",
              "}\n",
              "\n",
              "scope.google = scope.google || {};\n",
              "scope.google.colab = scope.google.colab || {};\n",
              "scope.google.colab._files = {\n",
              "  _uploadFiles,\n",
              "  _uploadFilesContinue,\n",
              "};\n",
              "})(self);\n",
              "</script> "
            ]
          },
          "metadata": {}
        },
        {
          "output_type": "stream",
          "name": "stdout",
          "text": [
            "Saving table_B.csv to table_B.csv\n"
          ]
        }
      ]
    },
    {
      "cell_type": "code",
      "source": [
        "# Get the uploaded file name\n",
        "source_data_file_2_name = next(iter(source_data_file_upload))\n",
        "\n",
        "# Print the uploaded file name\n",
        "print(\"You uploaded file:\", source_data_file_2_upload)\n",
        "\n",
        "source_file_2_df = pd.read_csv(source_data_file_2_name)"
      ],
      "metadata": {
        "id": "VGGm58v3rCAk"
      },
      "execution_count": null,
      "outputs": []
    },
    {
      "cell_type": "markdown",
      "source": [
        "# LLM"
      ],
      "metadata": {
        "id": "ySHlbX_cqq7R"
      }
    },
    {
      "cell_type": "code",
      "source": [
        "# Load the Template table\n",
        "template = pd.read_csv(\"template.csv\")\n",
        "\n",
        "# Load table A\n",
        "table_a = pd.read_csv(\"table_A.csv\")\n",
        "\n",
        "# Load table B\n",
        "table_b = pd.read_csv(\"table_B.csv\")"
      ],
      "metadata": {
        "id": "yWohK1YQNevX"
      },
      "execution_count": 41,
      "outputs": []
    },
    {
      "cell_type": "code",
      "source": [
        "def find_most_similar_columns(df1, df2, model_name, similarity_threshold=0.8):\n",
        "    tokenizer = AutoTokenizer.from_pretrained(model_name)\n",
        "    model = AutoModel.from_pretrained(model_name)\n",
        "    \n",
        "    # Create dictionaries to store the most similar columns\n",
        "    most_similar_columns = {}\n",
        "    decision_basis = {}\n",
        "\n",
        "    for col1 in df1.columns:\n",
        "        max_similarity = 0\n",
        "        most_similar_column = None\n",
        "        basis = None\n",
        "\n",
        "        for col2 in df2.columns:\n",
        "            # Concatenate all values in the column into a single string\n",
        "            text1 = ' '.join(df1[col1].astype(str))\n",
        "            text2 = ' '.join(df2[col2].astype(str))\n",
        "\n",
        "            # Encode the concatenated text\n",
        "            encoded_text1 = tokenizer.encode(text1, padding=True, truncation=True, return_tensors='pt')\n",
        "            encoded_text2 = tokenizer.encode(text2, padding=True, truncation=True, return_tensors='pt')\n",
        "\n",
        "            # Compute the cosine similarity between the encoded texts\n",
        "            similarity = cosine_similarity(model(encoded_text1).pooler_output.detach().numpy(),\n",
        "                                           model(encoded_text2).pooler_output.detach().numpy())\n",
        "\n",
        "            # Update the most similar column if the similarity is higher\n",
        "            if similarity > max_similarity:\n",
        "                max_similarity = similarity\n",
        "                most_similar_column = col2\n",
        "                basis = {\n",
        "                    'Similarity': similarity,\n",
        "                    'Formats': {\n",
        "                        'df1': df1[col1].dtype,\n",
        "                        'df2': df2[col2].dtype\n",
        "                    },\n",
        "                    'Distributions': {\n",
        "                        'df1': df1[col1].value_counts(normalize=True).to_dict(),\n",
        "                        'df2': df2[col2].value_counts(normalize=True).to_dict()\n",
        "                    },\n",
        "                    # Add any other relevant features or basis for decision\n",
        "                }\n",
        "\n",
        "        # If the similarity is below the threshold, prompt the user to choose a column\n",
        "        if max_similarity < similarity_threshold:\n",
        "            print(f\"Ambiguous similarity for column '{col1}'.\")\n",
        "            print(f\"Similarity value: {max_similarity}\")\n",
        "            print(f\"Choose from the following columns in df2: {df2.columns}\")\n",
        "            selected_column = input(f\"Enter the chosen column for '{col1}': \")\n",
        "            most_similar_column = selected_column\n",
        "            basis = {\n",
        "                'Similarity': similarity,\n",
        "                'Formats': {\n",
        "                    'df1': df1[col1].dtype,\n",
        "                    'df2': df2[col2].dtype\n",
        "                },\n",
        "                'Distributions': {\n",
        "                    'df1': df1[col1].value_counts(normalize=True).to_dict(),\n",
        "                    'df2': df2[col2].value_counts(normalize=True).to_dict()\n",
        "                },\n",
        "                # Add any other relevant features or basis for decision\n",
        "            }\n",
        "        most_similar_columns[col1] = most_similar_column\n",
        "        decision_basis[col1] = basis\n",
        "\n",
        "    return most_similar_columns, decision_basis"
      ],
      "metadata": {
        "id": "4wjY0t7hyYtc"
      },
      "execution_count": 42,
      "outputs": []
    },
    {
      "cell_type": "code",
      "source": [
        "model_name = 'bert-base-uncased'\n",
        "similarity_threshold = 0.99\n",
        "\n",
        "similar_columns, decision_basis = find_most_similar_columns(template, table_a, model_name, similarity_threshold)\n",
        "similar_columns_b, decision_basis_b = find_most_similar_columns(template, table_b, model_name, similarity_threshold)\n"
      ],
      "metadata": {
        "colab": {
          "base_uri": "https://localhost:8080/",
          "height": 0
        },
        "id": "pSFiLEcEycXS",
        "outputId": "870d56ac-732c-42b6-a2c7-e4c4ed032f59"
      },
      "execution_count": 43,
      "outputs": [
        {
          "output_type": "stream",
          "name": "stderr",
          "text": [
            "Some weights of the model checkpoint at bert-base-uncased were not used when initializing BertModel: ['cls.predictions.transform.LayerNorm.bias', 'cls.predictions.transform.LayerNorm.weight', 'cls.seq_relationship.weight', 'cls.predictions.transform.dense.weight', 'cls.predictions.bias', 'cls.predictions.decoder.weight', 'cls.predictions.transform.dense.bias', 'cls.seq_relationship.bias']\n",
            "- This IS expected if you are initializing BertModel from the checkpoint of a model trained on another task or with another architecture (e.g. initializing a BertForSequenceClassification model from a BertForPreTraining model).\n",
            "- This IS NOT expected if you are initializing BertModel from the checkpoint of a model that you expect to be exactly identical (initializing a BertForSequenceClassification model from a BertForSequenceClassification model).\n"
          ]
        },
        {
          "name": "stdout",
          "output_type": "stream",
          "text": [
            "Ambiguous similarity for column 'PolicyNumber'.\n",
            "Similarity value: [[0.91359234]]\n",
            "Choose from the following columns in df2: Index(['Date_of_Policy', 'FullName', 'Insurance_Plan', 'Policy_No',\n",
            "       'Monthly_Premium', 'Department', 'JobTitle', 'Policy_Start',\n",
            "       'Full_Name', 'Insurance_Type', 'Policy_Num', 'Monthly_Cost'],\n",
            "      dtype='object')\n",
            "Enter the chosen column for 'PolicyNumber': Policy_Num\n",
            "Ambiguous similarity for column 'Premium'.\n",
            "Similarity value: [[0.9844731]]\n",
            "Choose from the following columns in df2: Index(['Date_of_Policy', 'FullName', 'Insurance_Plan', 'Policy_No',\n",
            "       'Monthly_Premium', 'Department', 'JobTitle', 'Policy_Start',\n",
            "       'Full_Name', 'Insurance_Type', 'Policy_Num', 'Monthly_Cost'],\n",
            "      dtype='object')\n",
            "Enter the chosen column for 'Premium': Monthly_Premium\n"
          ]
        },
        {
          "output_type": "stream",
          "name": "stderr",
          "text": [
            "Some weights of the model checkpoint at bert-base-uncased were not used when initializing BertModel: ['cls.predictions.transform.LayerNorm.bias', 'cls.predictions.transform.LayerNorm.weight', 'cls.seq_relationship.weight', 'cls.predictions.transform.dense.weight', 'cls.predictions.bias', 'cls.predictions.decoder.weight', 'cls.predictions.transform.dense.bias', 'cls.seq_relationship.bias']\n",
            "- This IS expected if you are initializing BertModel from the checkpoint of a model trained on another task or with another architecture (e.g. initializing a BertForSequenceClassification model from a BertForPreTraining model).\n",
            "- This IS NOT expected if you are initializing BertModel from the checkpoint of a model that you expect to be exactly identical (initializing a BertForSequenceClassification model from a BertForSequenceClassification model).\n"
          ]
        },
        {
          "name": "stdout",
          "output_type": "stream",
          "text": [
            "Ambiguous similarity for column 'Date'.\n",
            "Similarity value: [[0.98080254]]\n",
            "Choose from the following columns in df2: Index(['PolicyDate', 'Name', 'PlanType', 'Policy_ID', 'PremiumAmount', 'Hobby',\n",
            "       'MaritalStatus', 'StartDate', 'Employee_Name', 'Plan_Name', 'PolicyID',\n",
            "       'Cost'],\n",
            "      dtype='object')\n",
            "Enter the chosen column for 'Date': StartDate\n"
          ]
        }
      ]
    },
    {
      "cell_type": "code",
      "source": [
        "print(similar_columns)\n",
        "print(decision_basis)\n",
        "\n",
        "print(similar_columns_b)\n",
        "print(decision_basis_b)"
      ],
      "metadata": {
        "colab": {
          "base_uri": "https://localhost:8080/",
          "height": 0
        },
        "id": "amom9jAhehaa",
        "outputId": "166db0fd-f1aa-4ee2-fbe4-69e99f6a44db"
      },
      "execution_count": 44,
      "outputs": [
        {
          "output_type": "stream",
          "name": "stdout",
          "text": [
            "{'Date': 'Date_of_Policy', 'EmployeeName': 'FullName', 'Plan': 'Insurance_Type', 'PolicyNumber': 'Policy_Num', 'Premium': 'Monthly_Premium'}\n",
            "{'Date': {'Similarity': array([[0.9904062]], dtype=float32), 'Formats': {'df1': dtype('O'), 'df2': dtype('O')}, 'Distributions': {'df1': {'01-05-2023': 0.1, '02-05-2023': 0.1, '03-05-2023': 0.1, '04-05-2023': 0.1, '05-05-2023': 0.1, '06-05-2023': 0.1, '07-05-2023': 0.1, '08-05-2023': 0.1, '09-05-2023': 0.1, '10-05-2023': 0.1}, 'df2': {'05/01/2023': 0.1, '05/02/2023': 0.1, '05/03/2023': 0.1, '05/04/2023': 0.1, '05/05/2023': 0.1, '05/06/2023': 0.1, '05/07/2023': 0.1, '05/08/2023': 0.1, '05/09/2023': 0.1, '05/10/2023': 0.1}}}, 'EmployeeName': {'Similarity': array([[1.]], dtype=float32), 'Formats': {'df1': dtype('O'), 'df2': dtype('O')}, 'Distributions': {'df1': {'John Doe': 0.1, 'Jane Smith': 0.1, 'Michael Brown': 0.1, 'Alice Johnson': 0.1, 'Bob Wilson': 0.1, 'Carol Martinez': 0.1, 'David Anderson': 0.1, 'Eva Thomas': 0.1, 'Frank Jackson': 0.1, 'Grace White': 0.1}, 'df2': {'John Doe': 0.1, 'Jane Smith': 0.1, 'Michael Brown': 0.1, 'Alice Johnson': 0.1, 'Bob Wilson': 0.1, 'Carol Martinez': 0.1, 'David Anderson': 0.1, 'Eva Thomas': 0.1, 'Frank Jackson': 0.1, 'Grace White': 0.1}}}, 'Plan': {'Similarity': array([[1.0000002]], dtype=float32), 'Formats': {'df1': dtype('O'), 'df2': dtype('O')}, 'Distributions': {'df1': {'Gold': 0.4, 'Silver': 0.3, 'Bronze': 0.3}, 'df2': {'Gold': 0.4, 'Silver': 0.3, 'Bronze': 0.3}}}, 'PolicyNumber': {'Similarity': array([[0.6453567]], dtype=float32), 'Formats': {'df1': dtype('O'), 'df2': dtype('float64')}, 'Distributions': {'df1': {'AB12345': 0.1, 'CD67890': 0.1, 'EF10111': 0.1, 'GH12121': 0.1, 'IJ13131': 0.1, 'KL14141': 0.1, 'MN15151': 0.1, 'OP16161': 0.1, 'QR17171': 0.1, 'ST18181': 0.1}, 'df2': {150.0: 0.4, 100.0: 0.3, 50.0: 0.3}}}, 'Premium': {'Similarity': array([[0.963086]], dtype=float32), 'Formats': {'df1': dtype('int64'), 'df2': dtype('float64')}, 'Distributions': {'df1': {150: 0.4, 100: 0.3, 50: 0.3}, 'df2': {150.0: 0.4, 100.0: 0.3, 50.0: 0.3}}}}\n",
            "{'Date': 'StartDate', 'EmployeeName': 'Employee_Name', 'Plan': 'Plan_Name', 'PolicyNumber': 'PremiumAmount', 'Premium': 'Cost'}\n",
            "{'Date': {'Similarity': array([[0.9189273]], dtype=float32), 'Formats': {'df1': dtype('O'), 'df2': dtype('int64')}, 'Distributions': {'df1': {'01-05-2023': 0.1, '02-05-2023': 0.1, '03-05-2023': 0.1, '04-05-2023': 0.1, '05-05-2023': 0.1, '06-05-2023': 0.1, '07-05-2023': 0.1, '08-05-2023': 0.1, '09-05-2023': 0.1, '10-05-2023': 0.1}, 'df2': {150: 0.4, 100: 0.3, 50: 0.3}}}, 'EmployeeName': {'Similarity': array([[1.]], dtype=float32), 'Formats': {'df1': dtype('O'), 'df2': dtype('O')}, 'Distributions': {'df1': {'John Doe': 0.1, 'Jane Smith': 0.1, 'Michael Brown': 0.1, 'Alice Johnson': 0.1, 'Bob Wilson': 0.1, 'Carol Martinez': 0.1, 'David Anderson': 0.1, 'Eva Thomas': 0.1, 'Frank Jackson': 0.1, 'Grace White': 0.1}, 'df2': {'John Doe': 0.1, 'Jane Smith': 0.1, 'Michael Brown': 0.1, 'Alice Johnson': 0.1, 'Bob Wilson': 0.1, 'Carol Martinez': 0.1, 'David Anderson': 0.1, 'Eva Thomas': 0.1, 'Frank Jackson': 0.1, 'Grace White': 0.1}}}, 'Plan': {'Similarity': array([[1.0000002]], dtype=float32), 'Formats': {'df1': dtype('O'), 'df2': dtype('O')}, 'Distributions': {'df1': {'Gold': 0.4, 'Silver': 0.3, 'Bronze': 0.3}, 'df2': {'Gold': 0.4, 'Silver': 0.3, 'Bronze': 0.3}}}, 'PolicyNumber': {'Similarity': array([[1.0000001]], dtype=float32), 'Formats': {'df1': dtype('O'), 'df2': dtype('O')}, 'Distributions': {'df1': {'AB12345': 0.1, 'CD67890': 0.1, 'EF10111': 0.1, 'GH12121': 0.1, 'IJ13131': 0.1, 'KL14141': 0.1, 'MN15151': 0.1, 'OP16161': 0.1, 'QR17171': 0.1, 'ST18181': 0.1}, 'df2': {'AB12345': 0.1, 'CD67890': 0.1, 'EF10111': 0.1, 'GH12121': 0.1, 'IJ13131': 0.1, 'KL14141': 0.1, 'MN15151': 0.1, 'OP16161': 0.1, 'QR17171': 0.1, 'ST18181': 0.1}}}, 'Premium': {'Similarity': array([[0.99999994]], dtype=float32), 'Formats': {'df1': dtype('int64'), 'df2': dtype('int64')}, 'Distributions': {'df1': {150: 0.4, 100: 0.3, 50: 0.3}, 'df2': {150: 0.4, 100: 0.3, 50: 0.3}}}}\n"
          ]
        }
      ]
    },
    {
      "cell_type": "code",
      "source": [
        "# Extract the similarity values from the 'decision_basis' dictionary\n",
        "similarities = [basis['Similarity'] for basis in decision_basis.values()]\n",
        "similarities = [arr.reshape(-1) for arr in similarities]\n",
        "similarities_df = pd.DataFrame(similarities)\n",
        "df_flat = similarities_df.stack().reset_index(drop=True)\n",
        "\n",
        "# Create a bar chart of the similarity values\n",
        "plt.bar(decision_basis.keys(), df_flat)\n",
        "plt.xlabel('Column Name')\n",
        "plt.ylabel('Similarity')\n",
        "plt.title('Similarity Values')\n",
        "plt.xticks(rotation=90)\n",
        "plt.show()"
      ],
      "metadata": {
        "colab": {
          "base_uri": "https://localhost:8080/",
          "height": 567
        },
        "id": "kXy_9R5unc8H",
        "outputId": "58e3db94-5043-4d23-8500-b24c66eca17d"
      },
      "execution_count": 45,
      "outputs": [
        {
          "output_type": "display_data",
          "data": {
            "text/plain": [
              "<Figure size 640x480 with 1 Axes>"
            ],
            "image/png": "[encoded data removed]"
          },
          "metadata": {}
        }
      ]
    },
    {
      "cell_type": "markdown",
      "source": [
        "From the histogram above, we can see that the 'PolicyNumber' and 'Premium' columns from table A had lower similarities compared to the 'Date', 'EmployeeName', & 'Plan' columns. Consequently, the algorithm prompted the user to choose the most similar column.\n"
      ],
      "metadata": {
        "id": "Njw_xyyoiM55"
      }
    },
    {
      "cell_type": "code",
      "source": [
        "# Extract the similarity values from the 'decision_basis' dictionary\n",
        "similarities_b = [basis['Similarity'] for basis in decision_basis_b.values()]\n",
        "similarities_b = [arr.reshape(-1) for arr in similarities_b]\n",
        "similarities_b_df = pd.DataFrame(similarities_b)\n",
        "df_b_flat = similarities_b_df.stack().reset_index(drop=True)\n",
        "\n",
        "# Create a bar chart of the similarity values\n",
        "plt.bar(decision_basis_b.keys(), df_b_flat)\n",
        "plt.xlabel('Column Name')\n",
        "plt.ylabel('Similarity')\n",
        "plt.title('Similarity Values')\n",
        "plt.xticks(rotation=90)\n",
        "plt.show()"
      ],
      "metadata": {
        "colab": {
          "base_uri": "https://localhost:8080/",
          "height": 567
        },
        "id": "nLY3oQoLjsHR",
        "outputId": "9d6ecb72-ee0c-4540-c418-36253377f178"
      },
      "execution_count": 46,
      "outputs": [
        {
          "output_type": "display_data",
          "data": {
            "text/plain": [
              "<Figure size 640x480 with 1 Axes>"
            ],
            "image/png": "[encoded data removed]"
          },
          "metadata": {}
        }
      ]
    },
    {
      "cell_type": "markdown",
      "source": [
        "From the histogram above, we can see that the 'Date' column from table B had a lower similarity compared with columns from the Template table, compared to the 'EmployeeName', 'Plan', 'PolicyNumber', & 'Premium' columns. Consequently, the algorithm prompted the user to choose the most similar column."
      ],
      "metadata": {
        "id": "VjP6TPKHjmtj"
      }
    },
    {
      "cell_type": "markdown",
      "source": [
        "# Transformation Logic"
      ],
      "metadata": {
        "id": "ZXCr8ByW0Z1A"
      }
    },
    {
      "cell_type": "markdown",
      "source": [
        "**Since such operations can be repeated quite often, and a person will edit the transformation logic, it is desirable to save this data and have the ability to retrain on it. Propose an approach for retraining and try to implement such retraining on synthetic examples (you can come up with them using GPT =))**\n",
        "\n",
        "The function below is reponsible for mapping the value formats from tables A and B to the value format in the template table. Anyone who wishes to edit the transformation logic can do so within the context of this function, passing in the two input tables as dataframes, as well as a dictionary mapping of the best columns from the corresponding input table to the target table.\n",
        "\n",
        "The ability to retrain the model can be accomplished by, once again, specifying the input tables as dataframes, specifying the model name, and calling the find_most_similar_columns() function from the section above."
      ],
      "metadata": {
        "id": "mt6AZjB72r40"
      }
    },
    {
      "cell_type": "code",
      "source": [
        "def convert_dataframe_values(df_a, df_b, column_mapping):\n",
        "    new_df = pd.DataFrame()\n",
        "\n",
        "    for col_a, col_b in column_mapping.items():\n",
        "        # Get the data type of the column in dataframe A\n",
        "        data_type = df_a[col_a].dtype\n",
        "\n",
        "        def is_date(column):\n",
        "          try:\n",
        "              pd.to_datetime(column)\n",
        "              return True\n",
        "          except ValueError:\n",
        "              return False\n",
        "\n",
        "        if is_date(df_b[col_b]):\n",
        "          df_b[col_b] = pd.to_datetime(df_b[col_b])\n",
        "\n",
        "        # Convert the column values in dataframe B to the same data type\n",
        "        converted_values = df_b[col_b].astype(data_type)\n",
        "\n",
        "        # If the data type is datetime, infer the datetime format from the column value\n",
        "        if data_type == 'datetime64[ns]':\n",
        "            converted_values = pd.to_datetime(converted_values, infer_datetime_format=True)\n",
        "\n",
        "        # Add the converted values to the new dataframe\n",
        "        new_df[col_a] = converted_values\n",
        "\n",
        "    return new_df"
      ],
      "metadata": {
        "id": "QlkOulfR2iyK"
      },
      "execution_count": 47,
      "outputs": []
    },
    {
      "cell_type": "code",
      "source": [
        "new_df = convert_dataframe_values(template, table_a, similar_columns)\n",
        "print(new_df)"
      ],
      "metadata": {
        "colab": {
          "base_uri": "https://localhost:8080/",
          "height": 0
        },
        "id": "GrClDhjW2lyi",
        "outputId": "709408ad-b12b-42f8-e3c8-9648507aff30"
      },
      "execution_count": 48,
      "outputs": [
        {
          "output_type": "stream",
          "name": "stdout",
          "text": [
            "                  Date    EmployeeName    Plan PolicyNumber  Premium\n",
            "0  2023-05-01 00:00:00        John Doe    Gold     AB-12345      150\n",
            "1  2023-05-02 00:00:00      Jane Smith  Silver     CD-67890      100\n",
            "2  2023-05-03 00:00:00   Michael Brown  Bronze     EF-10111       50\n",
            "3  2023-05-04 00:00:00   Alice Johnson    Gold     GH-12121      150\n",
            "4  2023-05-05 00:00:00      Bob Wilson  Silver     IJ-13131      100\n",
            "5  2023-05-06 00:00:00  Carol Martinez  Bronze     KL-14141       50\n",
            "6  2023-05-07 00:00:00  David Anderson    Gold     MN-15151      150\n",
            "7  2023-05-08 00:00:00      Eva Thomas  Silver     OP-16161      100\n",
            "8  2023-05-09 00:00:00   Frank Jackson  Bronze     QR-17171       50\n",
            "9  2023-05-10 00:00:00     Grace White    Gold     ST-18181      150\n"
          ]
        }
      ]
    },
    {
      "cell_type": "code",
      "source": [
        "new_df_b = convert_dataframe_values(template, table_b, similar_columns_b)\n",
        "print(new_df_b)"
      ],
      "metadata": {
        "colab": {
          "base_uri": "https://localhost:8080/",
          "height": 0
        },
        "id": "3TtlKYRHswk8",
        "outputId": "2c34fe76-3e80-48ed-af96-b81025edd71f"
      },
      "execution_count": 49,
      "outputs": [
        {
          "output_type": "stream",
          "name": "stdout",
          "text": [
            "                  Date    EmployeeName    Plan PolicyNumber  Premium\n",
            "0  2023-05-01 00:00:00        John Doe    Gold      AB12345      150\n",
            "1  2023-05-02 00:00:00      Jane Smith  Silver      CD67890      100\n",
            "2  2023-05-03 00:00:00   Michael Brown  Bronze      EF10111       50\n",
            "3  2023-05-04 00:00:00   Alice Johnson    Gold      GH12121      150\n",
            "4  2023-05-05 00:00:00      Bob Wilson  Silver      IJ13131      100\n",
            "5  2023-05-06 00:00:00  Carol Martinez  Bronze      KL14141       50\n",
            "6  2023-05-07 00:00:00  David Anderson    Gold      MN15151      150\n",
            "7  2023-05-08 00:00:00      Eva Thomas  Silver      OP16161      100\n",
            "8  2023-05-09 00:00:00   Frank Jackson  Bronze      QR17171       50\n",
            "9  2023-05-10 00:00:00     Grace White    Gold      ST18181      150\n"
          ]
        }
      ]
    },
    {
      "cell_type": "markdown",
      "source": [
        "# Edge Case Discussion"
      ],
      "metadata": {
        "id": "hbrjssuC0hSf"
      }
    },
    {
      "cell_type": "markdown",
      "source": [
        "**Your thoughts on edge cases and how they can be overcome:**\n",
        "\n",
        "One edge case to consider is column dependencies. Suppose a column exists (i.e. Column Z), such that it's a combination (e.g. a grouping, concatenation, or aggregation) of other columns (i.e Column X & Column Y). In other words, the formulation of Column Z is dependent upon columns X & Y. Let's also suppose that there exists another column (Column A) that is similar to Column X, such that the column matching algorithm finds Column A to be more similar to a column in the target table than Column X. In such a scenario, we would run into an issue, since Column Z's integrity would no longer be maintained.\n",
        "\n",
        "Another edge case that was touched upon with the datetime format deals with different value formats. Tables A and B may have different value formats compared to the template. For example, dates may be represented in different formats (as seen from above), numeric values may have different decimal places, or text values may have different capitalization, currency symbols, or units of measurement. As a pre-processing step, normalizing the value formats to convert values in tables A and B to match the format specified in the template, prior to performing any post-processing or model inference, could prove beneficial."
      ],
      "metadata": {
        "id": "FMtjBx0luOPh"
      }
    }
  ]
}